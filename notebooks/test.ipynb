{
 "cells": [
  {
   "cell_type": "code",
   "execution_count": 2,
   "metadata": {},
   "outputs": [],
   "source": [
    "import numpy  as np\n",
    "import matplotlib.pyplot as plt\n",
    "import pandas as pd\n",
    "import os\n",
    "import sys\n",
    "\n",
    "sys.path.append(os.path.abspath(\"../src/\"))\n",
    "from bond_utils import bond_price_calc, macaulay_duration_calc, modified_duration_calc\n"
   ]
  },
  {
   "cell_type": "code",
   "execution_count": 8,
   "metadata": {},
   "outputs": [
    {
     "name": "stdout",
     "output_type": "stream",
     "text": [
      "bond price is 978.050116277854 \n",
      "4.625127774168846\n",
      "4.425959592506073\n"
     ]
    }
   ],
   "source": [
    "period = 5\n",
    "coupon_rate = 0.04\n",
    "yield_to_maturity = 0.045\n",
    "face_value = 1000\n",
    "\n",
    "bond_price = bond_price_calc(face_value, coupon_rate, yield_to_maturity, period)\n",
    "\n",
    "print(f\"bond price is {bond_price} \")\n",
    "\n",
    "macaulay_dur = macaulay_duration_calc(face_value, coupon_rate, yield_to_maturity, period)\n",
    "\n",
    "print(macaulay_dur)\n",
    "print(modified_duration_calc(face_value, coupon_rate, yield_to_maturity, period, 1))\n"
   ]
  },
  {
   "cell_type": "code",
   "execution_count": 17,
   "metadata": {},
   "outputs": [],
   "source": []
  },
  {
   "cell_type": "code",
   "execution_count": 18,
   "metadata": {},
   "outputs": [
    {
     "data": {
      "text/plain": [
       "4523.606757325772"
      ]
     },
     "execution_count": 18,
     "metadata": {},
     "output_type": "execute_result"
    }
   ],
   "source": []
  },
  {
   "cell_type": "code",
   "execution_count": null,
   "metadata": {},
   "outputs": [],
   "source": []
  }
 ],
 "metadata": {
  "kernelspec": {
   "display_name": "Python (venv)",
   "language": "python",
   "name": "venv"
  },
  "language_info": {
   "codemirror_mode": {
    "name": "ipython",
    "version": 3
   },
   "file_extension": ".py",
   "mimetype": "text/x-python",
   "name": "python",
   "nbconvert_exporter": "python",
   "pygments_lexer": "ipython3",
   "version": "3.11.0"
  }
 },
 "nbformat": 4,
 "nbformat_minor": 2
}
