{
 "cells": [
  {
   "cell_type": "code",
   "execution_count": 6,
   "metadata": {},
   "outputs": [],
   "source": [
    "import pandas as pd\n",
    "import numpy as np\n",
    "from src.insurer_model import Insurer\n",
    "import matplotlib.pyplot as plt\n",
    "import os"
   ]
  },
  {
   "cell_type": "markdown",
   "metadata": {},
   "source": [
    "Scenerio 1-1:  natural hedging\n",
    "\n",
    "Key Characteristics:\n",
    "1. \n",
    "2. \n",
    "3. \n",
    "source: newspaper1.com, "
   ]
  },
  {
   "cell_type": "code",
   "execution_count": null,
   "metadata": {},
   "outputs": [],
   "source": [
    "my_insurer = Insurer(\n",
    "    name=\"Typical Taiwanese Life Insurer\",\n",
    "    total_assets_twd=30_000_000_000_000, # Example: 30 Trillion TWD\n",
    "    foreign_asset_ratio=0.70,\n",
    "    usd_denom_ratio=0.95,\n",
    "    initial_twd_usd_spot= , # Example start of period\n",
    "    initial_us_bond_yield=0.045, # Example 4.5% annual yield\n",
    "    initial_twd_equity=2_500_000_000_000, # Example 2.5 Trillion TWD\n",
    "    initial_fevr_balance=220_000_000_000, # Example 220 Billion TWD\n",
    "    bond_duration=8 # Example 8 years\n",
    ")"
   ]
  }
 ],
 "metadata": {
  "kernelspec": {
   "display_name": "Python (venv)",
   "language": "python",
   "name": "venv"
  },
  "language_info": {
   "codemirror_mode": {
    "name": "ipython",
    "version": 3
   },
   "file_extension": ".py",
   "mimetype": "text/x-python",
   "name": "python",
   "nbconvert_exporter": "python",
   "pygments_lexer": "ipython3",
   "version": "3.11.0"
  }
 },
 "nbformat": 4,
 "nbformat_minor": 2
}
